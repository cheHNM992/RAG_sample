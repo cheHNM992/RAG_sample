{
 "cells": [
  {
   "cell_type": "code",
   "execution_count": 11,
   "id": "598b6666",
   "metadata": {},
   "outputs": [],
   "source": [
    "# テキストコーパスをチャンクに分割\n",
    "with open('code_gate.py', 'r', encoding='utf-8') as f:\n",
    "    text = f.read()\n",
    "\n",
    "from langchain.text_splitter import RecursiveCharacterTextSplitter\n",
    "\n",
    "text_splitter = RecursiveCharacterTextSplitter(chunk_size=100, chunk_overlap=0)\n",
    "texts = text_splitter.split_text(text)"
   ]
  },
  {
   "cell_type": "code",
   "execution_count": null,
   "id": "3dec51f3",
   "metadata": {},
   "outputs": [],
   "source": [
    "print(type(texts))\n",
    "print(\"--------\")\n",
    "print(len(texts))\n",
    "print(\"--------\")\n",
    "print(texts[0])\n",
    "print(\"--------\")\n",
    "print(texts[1])"
   ]
  },
  {
   "cell_type": "code",
   "execution_count": 13,
   "id": "407f3358",
   "metadata": {},
   "outputs": [],
   "source": [
    "# パッセージのベクトル化\n",
    "from langchain_huggingface import HuggingFaceEmbeddings\n",
    "\n",
    "# HuggingFaceのモデルを使用\n",
    "embeddings = HuggingFaceEmbeddings(model_name='intfloat/multilingual-e5-large', model_kwargs={'device': 'cpu'})\n",
    "\n",
    "# OpenAIのモデルを使用\n",
    "#embeddings = OpenAIEmbeddings()"
   ]
  },
  {
   "cell_type": "code",
   "execution_count": 14,
   "id": "96659421",
   "metadata": {},
   "outputs": [],
   "source": [
    "from langchain_community.vectorstores import FAISS\n",
    "\n",
    "# データベースの保存\n",
    "db = FAISS.from_texts(texts, embeddings)\n",
    "db.save_local('code.db')"
   ]
  },
  {
   "cell_type": "code",
   "execution_count": 15,
   "id": "a02e337b",
   "metadata": {},
   "outputs": [],
   "source": [
    "from langchain_community.vectorstores import FAISS\n",
    "\n",
    "# 保存したデータベースの読み込み\n",
    "db = FAISS.load_local('code.db',embeddings, allow_dangerous_deserialization=True)"
   ]
  },
  {
   "cell_type": "code",
   "execution_count": null,
   "id": "b7a17888",
   "metadata": {},
   "outputs": [],
   "source": [
    "similarity_sample = db.similarity_search(\"AND\")\n",
    "print(len(similarity_sample))\n",
    "print(\"--------\")\n",
    "print(type(similarity_sample[0]))\n",
    "print(\"--------\")\n",
    "print(similarity_sample[0].page_content)"
   ]
  },
  {
   "cell_type": "code",
   "execution_count": 17,
   "id": "12caa754",
   "metadata": {},
   "outputs": [],
   "source": [
    "# 検索器の構築\n",
    "retriever = db.as_retriever()   # 検索文書数 4（デフォルト）"
   ]
  },
  {
   "cell_type": "code",
   "execution_count": 18,
   "id": "9926c5cc",
   "metadata": {},
   "outputs": [],
   "source": [
    "# モデルの準備\n",
    "import os\n",
    "from langchain.chains import RetrievalQA\n",
    "from langchain_openai import ChatOpenAI\n",
    "\n",
    "os.environ['OPENAI_API_KEY'] = 'sk-proj-*****'\n",
    "\n",
    "openai_llm = ChatOpenAI(model_name=\"gpt-4.1-nano\")\n",
    "qa = RetrievalQA.from_chain_type(\n",
    "    llm=openai_llm,\n",
    "    retriever=retriever,\n",
    "    return_source_documents=True,\n",
    "    )"
   ]
  },
  {
   "cell_type": "code",
   "execution_count": null,
   "id": "85c71925",
   "metadata": {},
   "outputs": [],
   "source": [
    "# 実行例\n",
    "q = \"どんなプログラミング言語で書かれていますか？\"\n",
    "ans = qa.invoke(q)\n",
    "print(q)\n",
    "print(ans['result'])\n",
    "\n",
    "print(\"--------------------------\")\n",
    "\n",
    "q = \"定義されている関数を全てリストアップして下さい\"\n",
    "ans = qa.invoke(q)\n",
    "print(q)\n",
    "print(ans['result'])\n",
    "\n",
    "print(\"--------------------------\")\n",
    "\n",
    "q = \"AND関数は何回呼ばれますか？\"\n",
    "ans = qa.invoke(q)\n",
    "print(q)\n",
    "print(ans['result'])\n",
    "\n",
    "print(\"--------------------------\")\n",
    "\n",
    "q = \"このプログラムがやっていることは何ですか？\"\n",
    "ans = qa.invoke(q)\n",
    "print(q)\n",
    "print(ans['result'])"
   ]
  }
 ],
 "metadata": {
  "kernelspec": {
   "display_name": "py310",
   "language": "python",
   "name": "python3"
  },
  "language_info": {
   "codemirror_mode": {
    "name": "ipython",
    "version": 3
   },
   "file_extension": ".py",
   "mimetype": "text/x-python",
   "name": "python",
   "nbconvert_exporter": "python",
   "pygments_lexer": "ipython3",
   "version": "3.10.11"
  }
 },
 "nbformat": 4,
 "nbformat_minor": 5
}
