{
 "cells": [
  {
   "cell_type": "code",
   "execution_count": 6,
   "id": "598b6666",
   "metadata": {},
   "outputs": [],
   "source": [
    "# テキストコーパスをチャンクに分割\n",
    "with open('kitei.txt', 'r', encoding='utf-8') as f:\n",
    "    text = f.read()\n",
    "\n",
    "from langchain.text_splitter import RecursiveCharacterTextSplitter\n",
    "\n",
    "text_splitter = RecursiveCharacterTextSplitter(chunk_size=100, chunk_overlap=0)\n",
    "texts = text_splitter.split_text(text)"
   ]
  },
  {
   "cell_type": "code",
   "execution_count": 7,
   "id": "3dec51f3",
   "metadata": {},
   "outputs": [
    {
     "name": "stdout",
     "output_type": "stream",
     "text": [
      "<class 'list'>\n",
      "--------\n",
      "19\n",
      "--------\n",
      "株式会社ミライソフト 社内規定\n",
      "\n",
      "■第1章 総則\n",
      "●第1条（目的）\n",
      "この規定は、株式会社ミライソフト（以下「当社」という）の円滑な業務運営と、全従業員の安全かつ公正な職場環境の確保を目的とする。\n",
      "--------\n",
      "●第2条（適用範囲）\n",
      "本規定は、当社に雇用される全ての従業員に適用する。\n"
     ]
    }
   ],
   "source": [
    "print(type(texts))\n",
    "print(\"--------\")\n",
    "print(len(texts))\n",
    "print(\"--------\")\n",
    "print(texts[0])\n",
    "print(\"--------\")\n",
    "print(texts[1])"
   ]
  },
  {
   "cell_type": "code",
   "execution_count": 8,
   "id": "407f3358",
   "metadata": {},
   "outputs": [],
   "source": [
    "# パッセージのベクトル化\n",
    "from langchain_huggingface import HuggingFaceEmbeddings\n",
    "\n",
    "# HuggingFaceのモデルを使用\n",
    "embeddings = HuggingFaceEmbeddings(model_name='intfloat/multilingual-e5-large', model_kwargs={'device': 'cpu'})\n",
    "\n",
    "# OpenAIのモデルを使用\n",
    "#embeddings = OpenAIEmbeddings()"
   ]
  },
  {
   "cell_type": "code",
   "execution_count": 9,
   "id": "96659421",
   "metadata": {},
   "outputs": [],
   "source": [
    "from langchain_community.vectorstores import FAISS\n",
    "\n",
    "# データベースの保存\n",
    "db = FAISS.from_texts(texts, embeddings)\n",
    "db.save_local('kitei.db')"
   ]
  },
  {
   "cell_type": "code",
   "execution_count": 10,
   "id": "a02e337b",
   "metadata": {},
   "outputs": [],
   "source": [
    "# 保存したデータベースの読み込み\n",
    "db = FAISS.load_local('kitei.db',embeddings, allow_dangerous_deserialization=True)"
   ]
  },
  {
   "cell_type": "code",
   "execution_count": 11,
   "id": "b7a17888",
   "metadata": {},
   "outputs": [
    {
     "name": "stdout",
     "output_type": "stream",
     "text": [
      "4\n",
      "--------\n",
      "<class 'langchain_core.documents.base.Document'>\n",
      "--------\n",
      "■第2章 勤務\n",
      "●第3条（勤務時間）\n",
      "始業時刻：午前9時00分\n",
      "終業時刻：午後6時00分\n",
      "休憩時間：正午12時から午後1時まで（60分）\n"
     ]
    }
   ],
   "source": [
    "similarity_sample = db.similarity_search(\"勤務\")\n",
    "print(len(similarity_sample))\n",
    "print(\"--------\")\n",
    "print(type(similarity_sample[0]))\n",
    "print(\"--------\")\n",
    "print(similarity_sample[0].page_content)"
   ]
  },
  {
   "cell_type": "code",
   "execution_count": 12,
   "id": "12caa754",
   "metadata": {},
   "outputs": [],
   "source": [
    "# 検索器の構築\n",
    "retriever = db.as_retriever()   # 検索文書数 4（デフォルト）"
   ]
  },
  {
   "cell_type": "code",
   "execution_count": 13,
   "id": "9926c5cc",
   "metadata": {},
   "outputs": [],
   "source": [
    "# モデルの準備\n",
    "import os\n",
    "from langchain.chains import RetrievalQA\n",
    "from langchain_openai import ChatOpenAI\n",
    "\n",
    "os.environ['OPENAI_API_KEY'] = 'sk-proj-*****'\n",
    "\n",
    "openai_llm = ChatOpenAI(model_name=\"gpt-4.1-nano\")\n",
    "qa = RetrievalQA.from_chain_type(\n",
    "    llm=openai_llm,\n",
    "    retriever=retriever,\n",
    "    return_source_documents=True,\n",
    "    )"
   ]
  },
  {
   "cell_type": "code",
   "execution_count": 15,
   "id": "85c71925",
   "metadata": {},
   "outputs": [
    {
     "name": "stdout",
     "output_type": "stream",
     "text": [
      "勤務時間は午前9時00分から午後6時00分までです。\n"
     ]
    }
   ],
   "source": [
    "# 実行例\n",
    "q = \"勤務時間は何時から何時までですか？\"\n",
    "ans = qa.invoke(q)\n",
    "print(ans['result'])"
   ]
  }
 ],
 "metadata": {
  "kernelspec": {
   "display_name": ".exprmt",
   "language": "python",
   "name": "python3"
  },
  "language_info": {
   "codemirror_mode": {
    "name": "ipython",
    "version": 3
   },
   "file_extension": ".py",
   "mimetype": "text/x-python",
   "name": "python",
   "nbconvert_exporter": "python",
   "pygments_lexer": "ipython3",
   "version": "3.13.2"
  }
 },
 "nbformat": 4,
 "nbformat_minor": 5
}
