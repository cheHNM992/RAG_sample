{
 "cells": [
  {
   "cell_type": "code",
   "execution_count": 1,
   "id": "598b6666",
   "metadata": {},
   "outputs": [],
   "source": [
    "# テキストコーパスをチャンクに分割\n",
    "with open('code_gate.py', 'r', encoding='utf-8') as f:\n",
    "    text = f.read()\n",
    "\n",
    "from langchain.text_splitter import RecursiveCharacterTextSplitter\n",
    "\n",
    "text_splitter = RecursiveCharacterTextSplitter(chunk_size=100, chunk_overlap=0)\n",
    "texts = text_splitter.split_text(text)"
   ]
  },
  {
   "cell_type": "code",
   "execution_count": null,
   "id": "3dec51f3",
   "metadata": {},
   "outputs": [],
   "source": [
    "print(type(texts))\n",
    "print(\"--------\")\n",
    "print(len(texts))\n",
    "print(\"--------\")\n",
    "print(texts[0])\n",
    "print(\"--------\")\n",
    "print(texts[1])"
   ]
  },
  {
   "cell_type": "code",
   "execution_count": null,
   "id": "407f3358",
   "metadata": {},
   "outputs": [],
   "source": [
    "# パッセージのベクトル化\n",
    "from langchain_huggingface import HuggingFaceEmbeddings\n",
    "\n",
    "embeddings = HuggingFaceEmbeddings(model_name='intfloat/multilingual-e5-large', model_kwargs={'device': 'cpu'})"
   ]
  },
  {
   "cell_type": "code",
   "execution_count": 4,
   "id": "96659421",
   "metadata": {},
   "outputs": [],
   "source": [
    "from langchain_community.vectorstores import FAISS\n",
    "\n",
    "# データベースの保存\n",
    "db = FAISS.from_texts(texts, embeddings)\n",
    "db.save_local('code.db')"
   ]
  },
  {
   "cell_type": "code",
   "execution_count": 4,
   "id": "a02e337b",
   "metadata": {},
   "outputs": [],
   "source": [
    "from langchain_community.vectorstores import FAISS\n",
    "\n",
    "# 保存したデータベースの読み込み\n",
    "db = FAISS.load_local('code.db',embeddings, allow_dangerous_deserialization=True)"
   ]
  },
  {
   "cell_type": "code",
   "execution_count": null,
   "id": "b7a17888",
   "metadata": {},
   "outputs": [],
   "source": [
    "similarity_sample = db.similarity_search(\"XOR\")\n",
    "print(len(similarity_sample))\n",
    "print(\"--------\")\n",
    "print(type(similarity_sample[0]))\n",
    "print(\"--------\")\n",
    "print(similarity_sample[0].page_content)"
   ]
  },
  {
   "cell_type": "code",
   "execution_count": 6,
   "id": "12caa754",
   "metadata": {},
   "outputs": [],
   "source": [
    "# 検索器の構築\n",
    "retriever = db.as_retriever()   # 検索文書数 4（デフォルト）"
   ]
  },
  {
   "cell_type": "code",
   "execution_count": null,
   "id": "9926c5cc",
   "metadata": {},
   "outputs": [],
   "source": [
    "# モデルの準備\n",
    "import torch\n",
    "from transformers import AutoTokenizer, AutoModelForCausalLM, pipeline\n",
    "\n",
    "#QwenのCoderモデルを使用\n",
    "model_id = \"Qwen/Qwen2.5-Coder-0.5B-Instruct\"\n",
    "tokenizer = AutoTokenizer.from_pretrained(model_id, legacy=False, use_fast=True)\n",
    "\n",
    "model = AutoModelForCausalLM.from_pretrained(\n",
    "    model_id,\n",
    "    torch_dtype=torch.float16,\n",
    "    low_cpu_mem_usage=True,\n",
    "    ).eval()\n",
    "\n",
    "pipe = pipeline(\n",
    "    \"text-generation\",\n",
    "    model=model,\n",
    "    tokenizer=tokenizer,\n",
    "    max_new_tokens=128,\n",
    "    do_sample=True,\n",
    "    temperature=0.01,\n",
    "    repetition_penalty=2.0,\n",
    "    )"
   ]
  },
  {
   "cell_type": "code",
   "execution_count": 8,
   "id": "85c71925",
   "metadata": {},
   "outputs": [],
   "source": [
    "# プロンプトの準備\n",
    "\n",
    "template = \"\"\"\n",
    "ユーザー:以下のテキストを参照して、それに続く質問に答えてください。\n",
    "\n",
    "{context}\n",
    "\n",
    "{question}\n",
    "\n",
    "システム:\"\"\"\n",
    "\n",
    "from langchain.prompts import PromptTemplate\n",
    "\n",
    "prompt = PromptTemplate(\n",
    "    template=template,\n",
    "    input_variables=[\"context\", \"question\"],\n",
    "    template_format=\"f-string\"\n",
    "    )"
   ]
  },
  {
   "cell_type": "code",
   "execution_count": 9,
   "id": "3117302e",
   "metadata": {},
   "outputs": [],
   "source": [
    "from langchain.chains import RetrievalQA\n",
    "from langchain_huggingface import HuggingFacePipeline\n",
    "\n",
    "qa = RetrievalQA.from_chain_type(\n",
    "    llm=HuggingFacePipeline(pipeline=pipe),\n",
    "    retriever=retriever,\n",
    "    chain_type=\"stuff\",\n",
    "    return_source_documents=True,\n",
    "    chain_type_kwargs={\"prompt\": prompt},\n",
    "    verbose=True,\n",
    "    )"
   ]
  },
  {
   "cell_type": "code",
   "execution_count": null,
   "id": "2584f475",
   "metadata": {},
   "outputs": [],
   "source": [
    "# 実行例\n",
    "\n",
    "q = \"どんなプログラミング言語で書かれていますか？\"\n",
    "ans = qa.invoke(q)\n",
    "#print(ans['result'])\n",
    "import re\n",
    "pattern = re.compile(r'システム:(.*)',re.DOTALL)\n",
    "match = pattern.search(ans['result'])\n",
    "ans0 = match.group(1)\n",
    "print(q)\n",
    "print(ans0)\n",
    "\n",
    "print(\"--------------------------\")\n",
    "\n",
    "q = \"定義されている関数を全てリストアップして下さい\"\n",
    "ans = qa.invoke(q)\n",
    "#print(ans['result'])\n",
    "import re\n",
    "pattern = re.compile(r'システム:(.*)',re.DOTALL)\n",
    "match = pattern.search(ans['result'])\n",
    "ans0 = match.group(1)\n",
    "print(q)\n",
    "print(ans0)\n",
    "\n",
    "print(\"--------------------------\")\n",
    "\n",
    "q = \"AND関数は何回呼ばれますか？\"\n",
    "ans = qa.invoke(q)\n",
    "#print(ans['result'])\n",
    "import re\n",
    "pattern = re.compile(r'システム:(.*)',re.DOTALL)\n",
    "match = pattern.search(ans['result'])\n",
    "ans0 = match.group(1)\n",
    "print(q)\n",
    "print(ans0)\n",
    "\n",
    "print(\"--------------------------\")\n",
    "\n",
    "q = \"このプログラムがやっていることは何ですか？\"\n",
    "ans = qa.invoke(q)\n",
    "#print(ans['result'])\n",
    "import re\n",
    "pattern = re.compile(r'システム:(.*)',re.DOTALL)\n",
    "match = pattern.search(ans['result'])\n",
    "ans0 = match.group(1)\n",
    "print(q)\n",
    "print(ans0)\n"
   ]
  }
 ],
 "metadata": {
  "kernelspec": {
   "display_name": "py310",
   "language": "python",
   "name": "python3"
  },
  "language_info": {
   "codemirror_mode": {
    "name": "ipython",
    "version": 3
   },
   "file_extension": ".py",
   "mimetype": "text/x-python",
   "name": "python",
   "nbconvert_exporter": "python",
   "pygments_lexer": "ipython3",
   "version": "3.10.11"
  }
 },
 "nbformat": 4,
 "nbformat_minor": 5
}
