{
 "cells": [
  {
   "cell_type": "code",
   "execution_count": 2,
   "id": "598b6666",
   "metadata": {},
   "outputs": [],
   "source": [
    "# テキストコーパスをチャンクに分割\n",
    "with open('kitei.txt', 'r', encoding='utf-8') as f:\n",
    "    text = f.read()\n",
    "\n",
    "from langchain.text_splitter import RecursiveCharacterTextSplitter\n",
    "\n",
    "text_splitter = RecursiveCharacterTextSplitter(chunk_size=100, chunk_overlap=0)\n",
    "texts = text_splitter.split_text(text)"
   ]
  },
  {
   "cell_type": "code",
   "execution_count": 3,
   "id": "3dec51f3",
   "metadata": {},
   "outputs": [
    {
     "name": "stdout",
     "output_type": "stream",
     "text": [
      "<class 'list'>\n",
      "--------\n",
      "19\n",
      "--------\n",
      "株式会社ミライソフト 社内規定\n",
      "\n",
      "■第1章 総則\n",
      "●第1条（目的）\n",
      "この規定は、株式会社ミライソフト（以下「当社」という）の円滑な業務運営と、全従業員の安全かつ公正な職場環境の確保を目的とする。\n",
      "--------\n",
      "●第2条（適用範囲）\n",
      "本規定は、当社に雇用される全ての従業員に適用する。\n"
     ]
    }
   ],
   "source": [
    "print(type(texts))\n",
    "print(\"--------\")\n",
    "print(len(texts))\n",
    "print(\"--------\")\n",
    "print(texts[0])\n",
    "print(\"--------\")\n",
    "print(texts[1])"
   ]
  },
  {
   "cell_type": "code",
   "execution_count": 4,
   "id": "407f3358",
   "metadata": {},
   "outputs": [],
   "source": [
    "# パッセージのベクトル化\n",
    "from langchain_huggingface import HuggingFaceEmbeddings\n",
    "\n",
    "embeddings = HuggingFaceEmbeddings(model_name='intfloat/multilingual-e5-large', model_kwargs={'device': 'cpu'})"
   ]
  },
  {
   "cell_type": "code",
   "execution_count": 5,
   "id": "96659421",
   "metadata": {},
   "outputs": [],
   "source": [
    "from langchain_community.vectorstores import FAISS\n",
    "\n",
    "# データベースの保存\n",
    "db = FAISS.from_texts(texts, embeddings)\n",
    "db.save_local('kitei.db')"
   ]
  },
  {
   "cell_type": "code",
   "execution_count": 6,
   "id": "a02e337b",
   "metadata": {},
   "outputs": [],
   "source": [
    "# 保存したデータベースの読み込み\n",
    "db = FAISS.load_local('kitei.db',embeddings, allow_dangerous_deserialization=True)"
   ]
  },
  {
   "cell_type": "code",
   "execution_count": 7,
   "id": "b7a17888",
   "metadata": {},
   "outputs": [
    {
     "name": "stdout",
     "output_type": "stream",
     "text": [
      "4\n",
      "--------\n",
      "<class 'langchain_core.documents.base.Document'>\n",
      "--------\n",
      "■第2章 勤務\n",
      "●第3条（勤務時間）\n",
      "始業時刻：午前9時00分\n",
      "終業時刻：午後6時00分\n",
      "休憩時間：正午12時から午後1時まで（60分）\n"
     ]
    }
   ],
   "source": [
    "similarity_sample = db.similarity_search(\"勤務\")\n",
    "print(len(similarity_sample))\n",
    "print(\"--------\")\n",
    "print(type(similarity_sample[0]))\n",
    "print(\"--------\")\n",
    "print(similarity_sample[0].page_content)"
   ]
  },
  {
   "cell_type": "code",
   "execution_count": 8,
   "id": "12caa754",
   "metadata": {},
   "outputs": [],
   "source": [
    "# 検索器の構築\n",
    "retriever = db.as_retriever()   # 検索文書数 4（デフォルト）"
   ]
  },
  {
   "cell_type": "code",
   "execution_count": 9,
   "id": "9926c5cc",
   "metadata": {},
   "outputs": [
    {
     "name": "stderr",
     "output_type": "stream",
     "text": [
      "Device set to use cpu\n"
     ]
    }
   ],
   "source": [
    "# モデルの準備\n",
    "import torch\n",
    "from transformers import AutoTokenizer, AutoModelForCausalLM, pipeline\n",
    "\n",
    "#CAのモデルを使用\n",
    "model_id = \"cyberagent/open-calm-small\"\n",
    "tokenizer = AutoTokenizer.from_pretrained(model_id, legacy=False, use_fast=True)\n",
    "\n",
    "model = AutoModelForCausalLM.from_pretrained(\n",
    "    model_id,\n",
    "    torch_dtype=torch.float16,\n",
    "    low_cpu_mem_usage=True,\n",
    "    ).eval()\n",
    "\n",
    "pipe = pipeline(\n",
    "    \"text-generation\",\n",
    "    model=model,\n",
    "    tokenizer=tokenizer,\n",
    "    max_new_tokens=128,\n",
    "    do_sample=True,\n",
    "    temperature=0.01,\n",
    "    repetition_penalty=2.0,\n",
    "    )"
   ]
  },
  {
   "cell_type": "code",
   "execution_count": 10,
   "id": "85c71925",
   "metadata": {},
   "outputs": [],
   "source": [
    "# プロンプトの準備\n",
    "\n",
    "template = \"\"\"\n",
    "ユーザー:以下のテキストを参照して、それに続く質問に答えてください。\n",
    "\n",
    "{context}\n",
    "\n",
    "{question}\n",
    "\n",
    "システム:\"\"\"\n",
    "\n",
    "from langchain.prompts import PromptTemplate\n",
    "\n",
    "prompt = PromptTemplate(\n",
    "    template=template,\n",
    "    input_variables=[\"context\", \"question\"],\n",
    "    template_format=\"f-string\"\n",
    "    )"
   ]
  },
  {
   "cell_type": "code",
   "execution_count": 11,
   "id": "3117302e",
   "metadata": {},
   "outputs": [],
   "source": [
    "from langchain.chains import RetrievalQA\n",
    "from langchain_huggingface import HuggingFacePipeline\n",
    "\n",
    "qa = RetrievalQA.from_chain_type(\n",
    "    llm=HuggingFacePipeline(pipeline=pipe),\n",
    "    retriever=retriever,\n",
    "    chain_type=\"stuff\",\n",
    "    return_source_documents=True,\n",
    "    chain_type_kwargs={\"prompt\": prompt},\n",
    "    verbose=True,\n",
    "    )"
   ]
  },
  {
   "cell_type": "code",
   "execution_count": 12,
   "id": "2584f475",
   "metadata": {},
   "outputs": [
    {
     "name": "stdout",
     "output_type": "stream",
     "text": [
      "\n",
      "\n",
      "\u001b[1m> Entering new RetrievalQA chain...\u001b[0m\n",
      "\n",
      "\u001b[1m> Finished chain.\u001b[0m\n",
      "\n",
      "ユーザー:以下のテキストを参照して、それに続く質問に答えてください。\n",
      "\n",
      "■第2章 勤務\n",
      "●第3条（勤務時間）\n",
      "始業時刻：午前9時00分\n",
      "終業時刻：午後6時00分\n",
      "休憩時間：正午12時から午後1時まで（60分）\n",
      "\n",
      "●第7条（リモートワーク）\n",
      "原則として週2回までのリモートワークを認める。必要機材は会社より貸与する。\n",
      "\n",
      "上限を超える場合、事前に上長の承認を得ること\n",
      "日当：出張日1日につき2,000円を支給（食費等の雑費含む）\n",
      "\n",
      "業務上の背任行為や横領、重大な過失\n",
      "\n",
      "勤務時間は何時から何時までですか？\n",
      "\n",
      "システム:リモートでの勤務です。(PC・タブレット等の端末からの操作となります。)\n",
      "--------------------------\n",
      "リモートでの勤務です。(PC・タブレット等の端末からの操作となります。)\n"
     ]
    }
   ],
   "source": [
    "# 実行例\n",
    "\n",
    "q = \"勤務時間は何時から何時までですか？\"\n",
    "ans = qa.invoke(q)\n",
    "print(ans['result'])\n",
    "\n",
    "print(\"--------------------------\")\n",
    "\n",
    "import re\n",
    "pattern = re.compile(r'システム:(.*)',re.DOTALL)\n",
    "match = pattern.search(ans['result'])\n",
    "ans0 = match.group(1)\n",
    "print(ans0)"
   ]
  }
 ],
 "metadata": {
  "kernelspec": {
   "display_name": ".exprmt",
   "language": "python",
   "name": "python3"
  },
  "language_info": {
   "codemirror_mode": {
    "name": "ipython",
    "version": 3
   },
   "file_extension": ".py",
   "mimetype": "text/x-python",
   "name": "python",
   "nbconvert_exporter": "python",
   "pygments_lexer": "ipython3",
   "version": "3.13.2"
  }
 },
 "nbformat": 4,
 "nbformat_minor": 5
}
